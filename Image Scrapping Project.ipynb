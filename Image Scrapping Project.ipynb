{
 "cells": [
  {
   "cell_type": "code",
   "execution_count": 10,
   "id": "54f6aebd",
   "metadata": {},
   "outputs": [
    {
     "name": "stdout",
     "output_type": "stream",
     "text": [
      "Requirement already satisfied: selenium in c:\\programdata\\anaconda3\\lib\\site-packages (4.3.0)\n",
      "Requirement already satisfied: urllib3[secure,socks]~=1.26 in c:\\programdata\\anaconda3\\lib\\site-packages (from selenium) (1.26.7)\n",
      "Requirement already satisfied: trio-websocket~=0.9 in c:\\programdata\\anaconda3\\lib\\site-packages (from selenium) (0.9.2)\n",
      "Requirement already satisfied: trio~=0.17 in c:\\programdata\\anaconda3\\lib\\site-packages (from selenium) (0.21.0)\n",
      "Requirement already satisfied: cffi>=1.14 in c:\\programdata\\anaconda3\\lib\\site-packages (from trio~=0.17->selenium) (1.14.6)\n",
      "Requirement already satisfied: attrs>=19.2.0 in c:\\programdata\\anaconda3\\lib\\site-packages (from trio~=0.17->selenium) (21.2.0)\n",
      "Requirement already satisfied: idna in c:\\programdata\\anaconda3\\lib\\site-packages (from trio~=0.17->selenium) (3.2)\n",
      "Requirement already satisfied: sortedcontainers in c:\\programdata\\anaconda3\\lib\\site-packages (from trio~=0.17->selenium) (2.4.0)\n",
      "Requirement already satisfied: async-generator>=1.9 in c:\\programdata\\anaconda3\\lib\\site-packages (from trio~=0.17->selenium) (1.10)\n",
      "Requirement already satisfied: sniffio in c:\\programdata\\anaconda3\\lib\\site-packages (from trio~=0.17->selenium) (1.2.0)\n",
      "Requirement already satisfied: outcome in c:\\programdata\\anaconda3\\lib\\site-packages (from trio~=0.17->selenium) (1.2.0)\n",
      "Requirement already satisfied: pycparser in c:\\programdata\\anaconda3\\lib\\site-packages (from cffi>=1.14->trio~=0.17->selenium) (2.20)\n",
      "Requirement already satisfied: wsproto>=0.14 in c:\\programdata\\anaconda3\\lib\\site-packages (from trio-websocket~=0.9->selenium) (1.1.0)\n",
      "Requirement already satisfied: pyOpenSSL>=0.14 in c:\\programdata\\anaconda3\\lib\\site-packages (from urllib3[secure,socks]~=1.26->selenium) (21.0.0)\n",
      "Requirement already satisfied: cryptography>=1.3.4 in c:\\programdata\\anaconda3\\lib\\site-packages (from urllib3[secure,socks]~=1.26->selenium) (3.4.8)\n",
      "Requirement already satisfied: certifi in c:\\programdata\\anaconda3\\lib\\site-packages (from urllib3[secure,socks]~=1.26->selenium) (2021.10.8)\n",
      "Requirement already satisfied: PySocks!=1.5.7,<2.0,>=1.5.6 in c:\\programdata\\anaconda3\\lib\\site-packages (from urllib3[secure,socks]~=1.26->selenium) (1.7.1)\n",
      "Requirement already satisfied: six>=1.5.2 in c:\\programdata\\anaconda3\\lib\\site-packages (from pyOpenSSL>=0.14->urllib3[secure,socks]~=1.26->selenium) (1.16.0)\n",
      "Requirement already satisfied: h11<1,>=0.9.0 in c:\\programdata\\anaconda3\\lib\\site-packages (from wsproto>=0.14->trio-websocket~=0.9->selenium) (0.9.0)\n"
     ]
    },
    {
     "name": "stderr",
     "output_type": "stream",
     "text": [
      "WARNING: Ignoring invalid distribution -rkupsafe (c:\\programdata\\anaconda3\\lib\\site-packages)\n",
      "WARNING: Ignoring invalid distribution - (c:\\programdata\\anaconda3\\lib\\site-packages)\n",
      "WARNING: Ignoring invalid distribution -dna (c:\\programdata\\anaconda3\\lib\\site-packages)\n",
      "WARNING: Ignoring invalid distribution -arkupsafe (c:\\programdata\\anaconda3\\lib\\site-packages)\n",
      "WARNING: Ignoring invalid distribution -rkupsafe (c:\\programdata\\anaconda3\\lib\\site-packages)\n",
      "WARNING: Ignoring invalid distribution - (c:\\programdata\\anaconda3\\lib\\site-packages)\n",
      "WARNING: Ignoring invalid distribution -dna (c:\\programdata\\anaconda3\\lib\\site-packages)\n",
      "WARNING: Ignoring invalid distribution -arkupsafe (c:\\programdata\\anaconda3\\lib\\site-packages)\n",
      "WARNING: Ignoring invalid distribution -rkupsafe (c:\\programdata\\anaconda3\\lib\\site-packages)\n",
      "WARNING: Ignoring invalid distribution - (c:\\programdata\\anaconda3\\lib\\site-packages)\n",
      "WARNING: Ignoring invalid distribution -dna (c:\\programdata\\anaconda3\\lib\\site-packages)\n",
      "WARNING: Ignoring invalid distribution -arkupsafe (c:\\programdata\\anaconda3\\lib\\site-packages)\n",
      "WARNING: Ignoring invalid distribution -rkupsafe (c:\\programdata\\anaconda3\\lib\\site-packages)\n",
      "WARNING: Ignoring invalid distribution - (c:\\programdata\\anaconda3\\lib\\site-packages)\n",
      "WARNING: Ignoring invalid distribution -dna (c:\\programdata\\anaconda3\\lib\\site-packages)\n",
      "WARNING: Ignoring invalid distribution -arkupsafe (c:\\programdata\\anaconda3\\lib\\site-packages)\n",
      "WARNING: Ignoring invalid distribution -rkupsafe (c:\\programdata\\anaconda3\\lib\\site-packages)\n",
      "WARNING: Ignoring invalid distribution - (c:\\programdata\\anaconda3\\lib\\site-packages)\n",
      "WARNING: Ignoring invalid distribution -dna (c:\\programdata\\anaconda3\\lib\\site-packages)\n",
      "WARNING: Ignoring invalid distribution -arkupsafe (c:\\programdata\\anaconda3\\lib\\site-packages)\n",
      "WARNING: Ignoring invalid distribution -rkupsafe (c:\\programdata\\anaconda3\\lib\\site-packages)\n",
      "WARNING: Ignoring invalid distribution - (c:\\programdata\\anaconda3\\lib\\site-packages)\n",
      "WARNING: Ignoring invalid distribution -dna (c:\\programdata\\anaconda3\\lib\\site-packages)\n",
      "WARNING: Ignoring invalid distribution -arkupsafe (c:\\programdata\\anaconda3\\lib\\site-packages)\n"
     ]
    }
   ],
   "source": [
    "!pip install selenium"
   ]
  },
  {
   "cell_type": "code",
   "execution_count": 11,
   "id": "819c0f99",
   "metadata": {},
   "outputs": [],
   "source": [
    "#Importing Libraries\n",
    "import selenium\n",
    "import pandas as pd\n",
    "import time\n",
    "from bs4 import BeautifulSoup\n",
    "\n",
    "#Importing selenium webdriver\n",
    "from selenium import webdriver\n",
    "\n",
    "#Importing required Exceptions\n",
    "from selenium.common.exceptions import StaleElementReferenceException,NoSuchElementException\n",
    "\n",
    "#Importing requests\n",
    "import requests\n",
    "\n",
    "#importing regx\n",
    "import re\n",
    "from selenium.webdriver.common.by import By"
   ]
  },
  {
   "cell_type": "code",
   "execution_count": 12,
   "id": "9ab967a4",
   "metadata": {},
   "outputs": [
    {
     "name": "stderr",
     "output_type": "stream",
     "text": [
      "C:\\Users\\COTMAC\\AppData\\Local\\Temp/ipykernel_12864/2295598310.py:2: DeprecationWarning: executable_path has been deprecated, please pass in a Service object\n",
      "  driver = webdriver.Chrome(r'C:\\Users\\COTMAC\\Downloads\\chromedriver_win32\\chromedriver.exe')\n"
     ]
    }
   ],
   "source": [
    "# Connect to webdriver\n",
    "driver = webdriver.Chrome(r'C:\\Users\\COTMAC\\Downloads\\chromedriver_win32\\chromedriver.exe')"
   ]
  },
  {
   "cell_type": "code",
   "execution_count": 13,
   "id": "3e1b6b7c",
   "metadata": {},
   "outputs": [],
   "source": [
    "driver.get('https://images.google.com/')"
   ]
  },
  {
   "cell_type": "code",
   "execution_count": 14,
   "id": "e098f7a5",
   "metadata": {},
   "outputs": [
    {
     "data": {
      "text/plain": [
       "<selenium.webdriver.remote.webelement.WebElement (session=\"04fbb22b5e4918cd7f8d4f03026f9015\", element=\"0abb9762-1f31-41d1-b54a-4667e0a90bad\")>"
      ]
     },
     "execution_count": 14,
     "metadata": {},
     "output_type": "execute_result"
    }
   ],
   "source": [
    "search=driver.find_element(By.XPATH,\"/html/body/div[1]/div[3]/form/div[1]/div[1]/div[1]/div/div[2]/input\")\n",
    "search"
   ]
  },
  {
   "cell_type": "code",
   "execution_count": 15,
   "id": "205c09be",
   "metadata": {},
   "outputs": [
    {
     "name": "stdout",
     "output_type": "stream",
     "text": [
      "Enter product Name:Sarees(women)\n"
     ]
    }
   ],
   "source": [
    "user_input=input(\"Enter product Name:\")"
   ]
  },
  {
   "cell_type": "code",
   "execution_count": 16,
   "id": "4c8a0cbe",
   "metadata": {},
   "outputs": [
    {
     "data": {
      "text/plain": [
       "'Sarees(women)'"
      ]
     },
     "execution_count": 16,
     "metadata": {},
     "output_type": "execute_result"
    }
   ],
   "source": [
    "user_input"
   ]
  },
  {
   "cell_type": "code",
   "execution_count": 17,
   "id": "4b3206bf",
   "metadata": {},
   "outputs": [],
   "source": [
    "search.send_keys(\"Sarees (women)\")"
   ]
  },
  {
   "cell_type": "code",
   "execution_count": 20,
   "id": "38ff4298",
   "metadata": {},
   "outputs": [],
   "source": [
    "#search3=driver.find_element(By.XPATH,\"/html/body/c-wiz/c-wiz/div/div[3]/div[2]/div/div[1]/form/div[1]/div[3]/div[2]/ul/div/ul/li[1]/div/div[2]/div/span\")\n",
    "search3=driver.find_element(By.XPATH,\"/html/body/div[1]/div[3]/form/div[1]/div[1]/div[2]/div[2]/div[2]/div[1]/div/ul/li[1]/div/div[2]/div[1]/span\")\n",
    "search3.click()\n",
    "time.sleep(5)"
   ]
  },
  {
   "cell_type": "code",
   "execution_count": 26,
   "id": "161f2494",
   "metadata": {},
   "outputs": [],
   "source": [
    "# 5000 time we scroll down by 10000 in order to generate more Comments\n",
    "for _ in range(5000):\n",
    "    driver.execute_script(\"window.scrollBy(0,5000)\")"
   ]
  },
  {
   "cell_type": "code",
   "execution_count": 27,
   "id": "95f3725d",
   "metadata": {},
   "outputs": [],
   "source": [
    "images = driver.find_elements(By.XPATH,'//img[@class=\"rg_i Q4LuWd\"]')\n",
    "#images = driver.find_elements(By.XPATH,'//img[@class=\"s0Fsx\"]')"
   ]
  },
  {
   "cell_type": "code",
   "execution_count": 28,
   "id": "5865de78",
   "metadata": {},
   "outputs": [
    {
     "data": {
      "text/plain": [
       "400"
      ]
     },
     "execution_count": 28,
     "metadata": {},
     "output_type": "execute_result"
    }
   ],
   "source": [
    "len(images)"
   ]
  },
  {
   "cell_type": "code",
   "execution_count": null,
   "id": "68fab8c9",
   "metadata": {},
   "outputs": [],
   "source": []
  },
  {
   "cell_type": "code",
   "execution_count": 29,
   "id": "de549122",
   "metadata": {},
   "outputs": [],
   "source": [
    "img_urls=[] \n",
    "for image in images:\n",
    "    source=image.get_attribute('src')\n",
    "    if source is not None:\n",
    "        if(source[0:4]=='http'):\n",
    "            img_urls.append(source)"
   ]
  },
  {
   "cell_type": "code",
   "execution_count": 30,
   "id": "f02886ca",
   "metadata": {},
   "outputs": [
    {
     "data": {
      "text/plain": [
       "184"
      ]
     },
     "execution_count": 30,
     "metadata": {},
     "output_type": "execute_result"
    }
   ],
   "source": [
    "len(img_urls)"
   ]
  },
  {
   "cell_type": "code",
   "execution_count": 31,
   "id": "68d03e2d",
   "metadata": {},
   "outputs": [],
   "source": [
    "import requests"
   ]
  },
  {
   "cell_type": "code",
   "execution_count": 32,
   "id": "6e349cbd",
   "metadata": {},
   "outputs": [
    {
     "name": "stdout",
     "output_type": "stream",
     "text": [
      "Downloading 0 of 300 images\n",
      "Downloading 1 of 300 images\n",
      "Downloading 2 of 300 images\n",
      "Downloading 3 of 300 images\n",
      "Downloading 4 of 300 images\n",
      "Downloading 5 of 300 images\n",
      "Downloading 6 of 300 images\n",
      "Downloading 7 of 300 images\n",
      "Downloading 8 of 300 images\n",
      "Downloading 9 of 300 images\n",
      "Downloading 10 of 300 images\n",
      "Downloading 11 of 300 images\n",
      "Downloading 12 of 300 images\n",
      "Downloading 13 of 300 images\n",
      "Downloading 14 of 300 images\n",
      "Downloading 15 of 300 images\n",
      "Downloading 16 of 300 images\n",
      "Downloading 17 of 300 images\n",
      "Downloading 18 of 300 images\n",
      "Downloading 19 of 300 images\n",
      "Downloading 20 of 300 images\n",
      "Downloading 21 of 300 images\n",
      "Downloading 22 of 300 images\n",
      "Downloading 23 of 300 images\n",
      "Downloading 24 of 300 images\n",
      "Downloading 25 of 300 images\n",
      "Downloading 26 of 300 images\n",
      "Downloading 27 of 300 images\n",
      "Downloading 28 of 300 images\n",
      "Downloading 29 of 300 images\n",
      "Downloading 30 of 300 images\n",
      "Downloading 31 of 300 images\n",
      "Downloading 32 of 300 images\n",
      "Downloading 33 of 300 images\n",
      "Downloading 34 of 300 images\n",
      "Downloading 35 of 300 images\n",
      "Downloading 36 of 300 images\n",
      "Downloading 37 of 300 images\n",
      "Downloading 38 of 300 images\n",
      "Downloading 39 of 300 images\n",
      "Downloading 40 of 300 images\n",
      "Downloading 41 of 300 images\n",
      "Downloading 42 of 300 images\n",
      "Downloading 43 of 300 images\n",
      "Downloading 44 of 300 images\n",
      "Downloading 45 of 300 images\n",
      "Downloading 46 of 300 images\n",
      "Downloading 47 of 300 images\n",
      "Downloading 48 of 300 images\n",
      "Downloading 49 of 300 images\n",
      "Downloading 50 of 300 images\n",
      "Downloading 51 of 300 images\n",
      "Downloading 52 of 300 images\n",
      "Downloading 53 of 300 images\n",
      "Downloading 54 of 300 images\n",
      "Downloading 55 of 300 images\n",
      "Downloading 56 of 300 images\n",
      "Downloading 57 of 300 images\n",
      "Downloading 58 of 300 images\n",
      "Downloading 59 of 300 images\n",
      "Downloading 60 of 300 images\n",
      "Downloading 61 of 300 images\n",
      "Downloading 62 of 300 images\n",
      "Downloading 63 of 300 images\n",
      "Downloading 64 of 300 images\n",
      "Downloading 65 of 300 images\n",
      "Downloading 66 of 300 images\n",
      "Downloading 67 of 300 images\n",
      "Downloading 68 of 300 images\n",
      "Downloading 69 of 300 images\n",
      "Downloading 70 of 300 images\n",
      "Downloading 71 of 300 images\n",
      "Downloading 72 of 300 images\n",
      "Downloading 73 of 300 images\n",
      "Downloading 74 of 300 images\n",
      "Downloading 75 of 300 images\n",
      "Downloading 76 of 300 images\n",
      "Downloading 77 of 300 images\n",
      "Downloading 78 of 300 images\n",
      "Downloading 79 of 300 images\n",
      "Downloading 80 of 300 images\n",
      "Downloading 81 of 300 images\n",
      "Downloading 82 of 300 images\n",
      "Downloading 83 of 300 images\n",
      "Downloading 84 of 300 images\n",
      "Downloading 85 of 300 images\n",
      "Downloading 86 of 300 images\n",
      "Downloading 87 of 300 images\n",
      "Downloading 88 of 300 images\n",
      "Downloading 89 of 300 images\n",
      "Downloading 90 of 300 images\n",
      "Downloading 91 of 300 images\n",
      "Downloading 92 of 300 images\n",
      "Downloading 93 of 300 images\n",
      "Downloading 94 of 300 images\n",
      "Downloading 95 of 300 images\n",
      "Downloading 96 of 300 images\n",
      "Downloading 97 of 300 images\n",
      "Downloading 98 of 300 images\n",
      "Downloading 99 of 300 images\n",
      "Downloading 100 of 300 images\n",
      "Downloading 101 of 300 images\n",
      "Downloading 102 of 300 images\n",
      "Downloading 103 of 300 images\n",
      "Downloading 104 of 300 images\n",
      "Downloading 105 of 300 images\n",
      "Downloading 106 of 300 images\n",
      "Downloading 107 of 300 images\n",
      "Downloading 108 of 300 images\n",
      "Downloading 109 of 300 images\n",
      "Downloading 110 of 300 images\n",
      "Downloading 111 of 300 images\n",
      "Downloading 112 of 300 images\n",
      "Downloading 113 of 300 images\n",
      "Downloading 114 of 300 images\n",
      "Downloading 115 of 300 images\n",
      "Downloading 116 of 300 images\n",
      "Downloading 117 of 300 images\n",
      "Downloading 118 of 300 images\n",
      "Downloading 119 of 300 images\n",
      "Downloading 120 of 300 images\n",
      "Downloading 121 of 300 images\n",
      "Downloading 122 of 300 images\n",
      "Downloading 123 of 300 images\n",
      "Downloading 124 of 300 images\n",
      "Downloading 125 of 300 images\n",
      "Downloading 126 of 300 images\n",
      "Downloading 127 of 300 images\n",
      "Downloading 128 of 300 images\n",
      "Downloading 129 of 300 images\n",
      "Downloading 130 of 300 images\n",
      "Downloading 131 of 300 images\n",
      "Downloading 132 of 300 images\n",
      "Downloading 133 of 300 images\n",
      "Downloading 134 of 300 images\n",
      "Downloading 135 of 300 images\n",
      "Downloading 136 of 300 images\n",
      "Downloading 137 of 300 images\n",
      "Downloading 138 of 300 images\n",
      "Downloading 139 of 300 images\n",
      "Downloading 140 of 300 images\n",
      "Downloading 141 of 300 images\n",
      "Downloading 142 of 300 images\n",
      "Downloading 143 of 300 images\n",
      "Downloading 144 of 300 images\n",
      "Downloading 145 of 300 images\n",
      "Downloading 146 of 300 images\n",
      "Downloading 147 of 300 images\n",
      "Downloading 148 of 300 images\n",
      "Downloading 149 of 300 images\n",
      "Downloading 150 of 300 images\n",
      "Downloading 151 of 300 images\n",
      "Downloading 152 of 300 images\n",
      "Downloading 153 of 300 images\n",
      "Downloading 154 of 300 images\n",
      "Downloading 155 of 300 images\n",
      "Downloading 156 of 300 images\n",
      "Downloading 157 of 300 images\n",
      "Downloading 158 of 300 images\n",
      "Downloading 159 of 300 images\n",
      "Downloading 160 of 300 images\n",
      "Downloading 161 of 300 images\n",
      "Downloading 162 of 300 images\n",
      "Downloading 163 of 300 images\n",
      "Downloading 164 of 300 images\n",
      "Downloading 165 of 300 images\n",
      "Downloading 166 of 300 images\n",
      "Downloading 167 of 300 images\n",
      "Downloading 168 of 300 images\n",
      "Downloading 169 of 300 images\n",
      "Downloading 170 of 300 images\n",
      "Downloading 171 of 300 images\n",
      "Downloading 172 of 300 images\n",
      "Downloading 173 of 300 images\n",
      "Downloading 174 of 300 images\n",
      "Downloading 175 of 300 images\n",
      "Downloading 176 of 300 images\n",
      "Downloading 177 of 300 images\n",
      "Downloading 178 of 300 images\n",
      "Downloading 179 of 300 images\n",
      "Downloading 180 of 300 images\n",
      "Downloading 181 of 300 images\n",
      "Downloading 182 of 300 images\n",
      "Downloading 183 of 300 images\n"
     ]
    }
   ],
   "source": [
    "for i in range(len(img_urls)):\n",
    "    if i>300:\n",
    "        break\n",
    "    print(\"Downloading {0} of {1} images\" .format(i,300))\n",
    "    try:\n",
    "        response=requests.get(img_urls[i])\n",
    "        file = open(r\"D:\\Flip_Robo_Images\\img_Saree\\New folder\"+str(i)+\".jpg\",'wb')\n",
    "        file.write(response.content)\n",
    "    except:\n",
    "        pass"
   ]
  },
  {
   "cell_type": "code",
   "execution_count": null,
   "id": "6a960511",
   "metadata": {},
   "outputs": [],
   "source": []
  },
  {
   "cell_type": "code",
   "execution_count": 47,
   "id": "2eecedc0",
   "metadata": {},
   "outputs": [
    {
     "name": "stderr",
     "output_type": "stream",
     "text": [
      "C:\\Users\\COTMAC\\AppData\\Local\\Temp/ipykernel_12864/2295598310.py:2: DeprecationWarning: executable_path has been deprecated, please pass in a Service object\n",
      "  driver = webdriver.Chrome(r'C:\\Users\\COTMAC\\Downloads\\chromedriver_win32\\chromedriver.exe')\n"
     ]
    }
   ],
   "source": [
    "# Connect to webdriver\n",
    "driver = webdriver.Chrome(r'C:\\Users\\COTMAC\\Downloads\\chromedriver_win32\\chromedriver.exe')"
   ]
  },
  {
   "cell_type": "code",
   "execution_count": 48,
   "id": "757fdff4",
   "metadata": {},
   "outputs": [],
   "source": [
    "driver.get('https://images.google.com/')"
   ]
  },
  {
   "cell_type": "code",
   "execution_count": 49,
   "id": "eed9ee4b",
   "metadata": {},
   "outputs": [
    {
     "data": {
      "text/plain": [
       "<selenium.webdriver.remote.webelement.WebElement (session=\"0a2782c9d7daf8b942b0d8d73a8da238\", element=\"6c5722f3-a3c0-4c3b-a1ac-dc1c4ed0c32b\")>"
      ]
     },
     "execution_count": 49,
     "metadata": {},
     "output_type": "execute_result"
    }
   ],
   "source": [
    "search1=driver.find_element(By.XPATH,\"/html/body/div[1]/div[3]/form/div[1]/div[1]/div[1]/div/div[2]/input\")\n",
    "search1"
   ]
  },
  {
   "cell_type": "code",
   "execution_count": 50,
   "id": "fc0d4055",
   "metadata": {},
   "outputs": [],
   "source": [
    "search1.send_keys(\"Trousers(men)\")"
   ]
  },
  {
   "cell_type": "code",
   "execution_count": 52,
   "id": "90973fa3",
   "metadata": {},
   "outputs": [],
   "source": [
    "search_button = driver.find_element(By.XPATH,'//div[@class=\"zgAlFc\"]')    # Finding the xpath of search button\n",
    "search_button.click()      # Clicking the search button\n",
    "time.sleep(5)"
   ]
  },
  {
   "cell_type": "code",
   "execution_count": 59,
   "id": "002d7369",
   "metadata": {},
   "outputs": [],
   "source": [
    "# 3000 time we scroll down by 10000 in order to generate more Comments\n",
    "for _ in range(8000):\n",
    "    driver.execute_script(\"window.scrollBy(0,8000)\")"
   ]
  },
  {
   "cell_type": "code",
   "execution_count": 60,
   "id": "586d8fbc",
   "metadata": {},
   "outputs": [],
   "source": [
    "images_Trousers = driver.find_elements(By.XPATH,'//img[@class=\"rg_i Q4LuWd\"]')"
   ]
  },
  {
   "cell_type": "code",
   "execution_count": 61,
   "id": "a193127d",
   "metadata": {},
   "outputs": [
    {
     "data": {
      "text/plain": [
       "300"
      ]
     },
     "execution_count": 61,
     "metadata": {},
     "output_type": "execute_result"
    }
   ],
   "source": [
    "len(images_Trousers)"
   ]
  },
  {
   "cell_type": "code",
   "execution_count": 62,
   "id": "fa1f1c8c",
   "metadata": {},
   "outputs": [],
   "source": [
    "img_urls_Trousers=[] \n",
    "for image in images_Trousers:\n",
    "    source=image.get_attribute('src')\n",
    "    if source is not None:\n",
    "        if(source[0:4]=='http'):\n",
    "            img_urls_Trousers.append(source)"
   ]
  },
  {
   "cell_type": "code",
   "execution_count": 63,
   "id": "eb6fec2e",
   "metadata": {},
   "outputs": [
    {
     "data": {
      "text/plain": [
       "137"
      ]
     },
     "execution_count": 63,
     "metadata": {},
     "output_type": "execute_result"
    }
   ],
   "source": [
    "len(img_urls_Trousers)"
   ]
  },
  {
   "cell_type": "code",
   "execution_count": 58,
   "id": "a15398cb",
   "metadata": {},
   "outputs": [
    {
     "name": "stdout",
     "output_type": "stream",
     "text": [
      "Downloading 0 of 300 images\n",
      "Downloading 1 of 300 images\n",
      "Downloading 2 of 300 images\n",
      "Downloading 3 of 300 images\n",
      "Downloading 4 of 300 images\n",
      "Downloading 5 of 300 images\n",
      "Downloading 6 of 300 images\n",
      "Downloading 7 of 300 images\n",
      "Downloading 8 of 300 images\n",
      "Downloading 9 of 300 images\n",
      "Downloading 10 of 300 images\n",
      "Downloading 11 of 300 images\n",
      "Downloading 12 of 300 images\n",
      "Downloading 13 of 300 images\n",
      "Downloading 14 of 300 images\n",
      "Downloading 15 of 300 images\n",
      "Downloading 16 of 300 images\n",
      "Downloading 17 of 300 images\n",
      "Downloading 18 of 300 images\n",
      "Downloading 19 of 300 images\n",
      "Downloading 20 of 300 images\n",
      "Downloading 21 of 300 images\n",
      "Downloading 22 of 300 images\n",
      "Downloading 23 of 300 images\n",
      "Downloading 24 of 300 images\n",
      "Downloading 25 of 300 images\n",
      "Downloading 26 of 300 images\n",
      "Downloading 27 of 300 images\n",
      "Downloading 28 of 300 images\n",
      "Downloading 29 of 300 images\n",
      "Downloading 30 of 300 images\n",
      "Downloading 31 of 300 images\n",
      "Downloading 32 of 300 images\n",
      "Downloading 33 of 300 images\n",
      "Downloading 34 of 300 images\n",
      "Downloading 35 of 300 images\n",
      "Downloading 36 of 300 images\n",
      "Downloading 37 of 300 images\n",
      "Downloading 38 of 300 images\n",
      "Downloading 39 of 300 images\n",
      "Downloading 40 of 300 images\n",
      "Downloading 41 of 300 images\n",
      "Downloading 42 of 300 images\n",
      "Downloading 43 of 300 images\n",
      "Downloading 44 of 300 images\n",
      "Downloading 45 of 300 images\n",
      "Downloading 46 of 300 images\n",
      "Downloading 47 of 300 images\n",
      "Downloading 48 of 300 images\n",
      "Downloading 49 of 300 images\n",
      "Downloading 50 of 300 images\n",
      "Downloading 51 of 300 images\n",
      "Downloading 52 of 300 images\n",
      "Downloading 53 of 300 images\n",
      "Downloading 54 of 300 images\n",
      "Downloading 55 of 300 images\n",
      "Downloading 56 of 300 images\n",
      "Downloading 57 of 300 images\n",
      "Downloading 58 of 300 images\n",
      "Downloading 59 of 300 images\n",
      "Downloading 60 of 300 images\n",
      "Downloading 61 of 300 images\n",
      "Downloading 62 of 300 images\n",
      "Downloading 63 of 300 images\n",
      "Downloading 64 of 300 images\n",
      "Downloading 65 of 300 images\n",
      "Downloading 66 of 300 images\n",
      "Downloading 67 of 300 images\n",
      "Downloading 68 of 300 images\n",
      "Downloading 69 of 300 images\n",
      "Downloading 70 of 300 images\n",
      "Downloading 71 of 300 images\n",
      "Downloading 72 of 300 images\n",
      "Downloading 73 of 300 images\n",
      "Downloading 74 of 300 images\n",
      "Downloading 75 of 300 images\n",
      "Downloading 76 of 300 images\n",
      "Downloading 77 of 300 images\n",
      "Downloading 78 of 300 images\n",
      "Downloading 79 of 300 images\n",
      "Downloading 80 of 300 images\n",
      "Downloading 81 of 300 images\n",
      "Downloading 82 of 300 images\n",
      "Downloading 83 of 300 images\n",
      "Downloading 84 of 300 images\n",
      "Downloading 85 of 300 images\n",
      "Downloading 86 of 300 images\n",
      "Downloading 87 of 300 images\n",
      "Downloading 88 of 300 images\n",
      "Downloading 89 of 300 images\n",
      "Downloading 90 of 300 images\n",
      "Downloading 91 of 300 images\n",
      "Downloading 92 of 300 images\n",
      "Downloading 93 of 300 images\n",
      "Downloading 94 of 300 images\n",
      "Downloading 95 of 300 images\n",
      "Downloading 96 of 300 images\n",
      "Downloading 97 of 300 images\n",
      "Downloading 98 of 300 images\n",
      "Downloading 99 of 300 images\n",
      "Downloading 100 of 300 images\n",
      "Downloading 101 of 300 images\n",
      "Downloading 102 of 300 images\n",
      "Downloading 103 of 300 images\n",
      "Downloading 104 of 300 images\n",
      "Downloading 105 of 300 images\n",
      "Downloading 106 of 300 images\n",
      "Downloading 107 of 300 images\n",
      "Downloading 108 of 300 images\n",
      "Downloading 109 of 300 images\n",
      "Downloading 110 of 300 images\n",
      "Downloading 111 of 300 images\n",
      "Downloading 112 of 300 images\n",
      "Downloading 113 of 300 images\n",
      "Downloading 114 of 300 images\n",
      "Downloading 115 of 300 images\n",
      "Downloading 116 of 300 images\n",
      "Downloading 117 of 300 images\n",
      "Downloading 118 of 300 images\n",
      "Downloading 119 of 300 images\n",
      "Downloading 120 of 300 images\n",
      "Downloading 121 of 300 images\n",
      "Downloading 122 of 300 images\n",
      "Downloading 123 of 300 images\n",
      "Downloading 124 of 300 images\n",
      "Downloading 125 of 300 images\n",
      "Downloading 126 of 300 images\n",
      "Downloading 127 of 300 images\n",
      "Downloading 128 of 300 images\n",
      "Downloading 129 of 300 images\n",
      "Downloading 130 of 300 images\n",
      "Downloading 131 of 300 images\n",
      "Downloading 132 of 300 images\n",
      "Downloading 133 of 300 images\n",
      "Downloading 134 of 300 images\n",
      "Downloading 135 of 300 images\n",
      "Downloading 136 of 300 images\n"
     ]
    }
   ],
   "source": [
    "for i in range(len(img_urls_Trousers)):\n",
    "    if i>300:\n",
    "        break\n",
    "    print(\"Downloading {0} of {1} images\" .format(i,300))\n",
    "    try:\n",
    "        response=requests.get(img_urls_Trousers[i])\n",
    "        file = open(r\"D:\\Flip_Robo_Images\\img_Trouser\\New folder\"+str(i)+\".jpg\",'wb')\n",
    "        file.write(response.content)\n",
    "    except:\n",
    "        pass"
   ]
  },
  {
   "cell_type": "code",
   "execution_count": null,
   "id": "0111412f",
   "metadata": {},
   "outputs": [],
   "source": []
  },
  {
   "cell_type": "code",
   "execution_count": 64,
   "id": "e798c9b1",
   "metadata": {},
   "outputs": [
    {
     "name": "stderr",
     "output_type": "stream",
     "text": [
      "C:\\Users\\COTMAC\\AppData\\Local\\Temp/ipykernel_12864/2295598310.py:2: DeprecationWarning: executable_path has been deprecated, please pass in a Service object\n",
      "  driver = webdriver.Chrome(r'C:\\Users\\COTMAC\\Downloads\\chromedriver_win32\\chromedriver.exe')\n"
     ]
    }
   ],
   "source": [
    "# Connect to webdriver\n",
    "driver = webdriver.Chrome(r'C:\\Users\\COTMAC\\Downloads\\chromedriver_win32\\chromedriver.exe')"
   ]
  },
  {
   "cell_type": "code",
   "execution_count": 65,
   "id": "c8f73fd4",
   "metadata": {},
   "outputs": [],
   "source": [
    "driver.get('https://images.google.com/')"
   ]
  },
  {
   "cell_type": "code",
   "execution_count": 67,
   "id": "e5a0c098",
   "metadata": {},
   "outputs": [
    {
     "data": {
      "text/plain": [
       "<selenium.webdriver.remote.webelement.WebElement (session=\"0913c52cd6d73c67ad2b379f92bc57ec\", element=\"2c758913-dfd2-4087-af54-96acab5005fc\")>"
      ]
     },
     "execution_count": 67,
     "metadata": {},
     "output_type": "execute_result"
    }
   ],
   "source": [
    "search_Jeans=driver.find_element(By.XPATH,\"/html/body/div[1]/div[3]/form/div[1]/div[1]/div[1]/div/div[2]/input\")\n",
    "search_Jeans"
   ]
  },
  {
   "cell_type": "code",
   "execution_count": 68,
   "id": "f60ad3a8",
   "metadata": {},
   "outputs": [],
   "source": [
    "search_Jeans.send_keys(\"Jeans(men)\")"
   ]
  },
  {
   "cell_type": "code",
   "execution_count": 69,
   "id": "c3cbcba2",
   "metadata": {},
   "outputs": [],
   "source": [
    "search_button1 = driver.find_element(By.XPATH,'//div[@class=\"zgAlFc\"]')    # Finding the xpath of search button\n",
    "search_button1.click()      # Clicking the search button\n",
    "time.sleep(5)"
   ]
  },
  {
   "cell_type": "code",
   "execution_count": 70,
   "id": "1b3a3ea9",
   "metadata": {},
   "outputs": [],
   "source": [
    "# 3000 time we scroll down by 10000 in order to generate more Comments\n",
    "for _ in range(8000):\n",
    "    driver.execute_script(\"window.scrollBy(0,8000)\")"
   ]
  },
  {
   "cell_type": "code",
   "execution_count": 71,
   "id": "aa9e20b3",
   "metadata": {},
   "outputs": [
    {
     "data": {
      "text/plain": [
       "380"
      ]
     },
     "execution_count": 71,
     "metadata": {},
     "output_type": "execute_result"
    }
   ],
   "source": [
    "images_Jeans = driver.find_elements(By.XPATH,'//img[@class=\"rg_i Q4LuWd\"]')\n",
    "len(images_Jeans)"
   ]
  },
  {
   "cell_type": "code",
   "execution_count": 72,
   "id": "de3ab5dc",
   "metadata": {},
   "outputs": [
    {
     "data": {
      "text/plain": [
       "170"
      ]
     },
     "execution_count": 72,
     "metadata": {},
     "output_type": "execute_result"
    }
   ],
   "source": [
    "img_urls_Jeans=[] \n",
    "for image in images_Jeans:\n",
    "    source=image.get_attribute('src')\n",
    "    if source is not None:\n",
    "        if(source[0:4]=='http'):\n",
    "            img_urls_Jeans.append(source)\n",
    "            \n",
    "len(img_urls_Jeans)"
   ]
  },
  {
   "cell_type": "code",
   "execution_count": 73,
   "id": "d0b02737",
   "metadata": {},
   "outputs": [
    {
     "name": "stdout",
     "output_type": "stream",
     "text": [
      "Downloading 0 of 300 images\n",
      "Downloading 1 of 300 images\n",
      "Downloading 2 of 300 images\n",
      "Downloading 3 of 300 images\n",
      "Downloading 4 of 300 images\n",
      "Downloading 5 of 300 images\n",
      "Downloading 6 of 300 images\n",
      "Downloading 7 of 300 images\n",
      "Downloading 8 of 300 images\n",
      "Downloading 9 of 300 images\n",
      "Downloading 10 of 300 images\n",
      "Downloading 11 of 300 images\n",
      "Downloading 12 of 300 images\n",
      "Downloading 13 of 300 images\n",
      "Downloading 14 of 300 images\n",
      "Downloading 15 of 300 images\n",
      "Downloading 16 of 300 images\n",
      "Downloading 17 of 300 images\n",
      "Downloading 18 of 300 images\n",
      "Downloading 19 of 300 images\n",
      "Downloading 20 of 300 images\n",
      "Downloading 21 of 300 images\n",
      "Downloading 22 of 300 images\n",
      "Downloading 23 of 300 images\n",
      "Downloading 24 of 300 images\n",
      "Downloading 25 of 300 images\n",
      "Downloading 26 of 300 images\n",
      "Downloading 27 of 300 images\n",
      "Downloading 28 of 300 images\n",
      "Downloading 29 of 300 images\n",
      "Downloading 30 of 300 images\n",
      "Downloading 31 of 300 images\n",
      "Downloading 32 of 300 images\n",
      "Downloading 33 of 300 images\n",
      "Downloading 34 of 300 images\n",
      "Downloading 35 of 300 images\n",
      "Downloading 36 of 300 images\n",
      "Downloading 37 of 300 images\n",
      "Downloading 38 of 300 images\n",
      "Downloading 39 of 300 images\n",
      "Downloading 40 of 300 images\n",
      "Downloading 41 of 300 images\n",
      "Downloading 42 of 300 images\n",
      "Downloading 43 of 300 images\n",
      "Downloading 44 of 300 images\n",
      "Downloading 45 of 300 images\n",
      "Downloading 46 of 300 images\n",
      "Downloading 47 of 300 images\n",
      "Downloading 48 of 300 images\n",
      "Downloading 49 of 300 images\n",
      "Downloading 50 of 300 images\n",
      "Downloading 51 of 300 images\n",
      "Downloading 52 of 300 images\n",
      "Downloading 53 of 300 images\n",
      "Downloading 54 of 300 images\n",
      "Downloading 55 of 300 images\n",
      "Downloading 56 of 300 images\n",
      "Downloading 57 of 300 images\n",
      "Downloading 58 of 300 images\n",
      "Downloading 59 of 300 images\n",
      "Downloading 60 of 300 images\n",
      "Downloading 61 of 300 images\n",
      "Downloading 62 of 300 images\n",
      "Downloading 63 of 300 images\n",
      "Downloading 64 of 300 images\n",
      "Downloading 65 of 300 images\n",
      "Downloading 66 of 300 images\n",
      "Downloading 67 of 300 images\n",
      "Downloading 68 of 300 images\n",
      "Downloading 69 of 300 images\n",
      "Downloading 70 of 300 images\n",
      "Downloading 71 of 300 images\n",
      "Downloading 72 of 300 images\n",
      "Downloading 73 of 300 images\n",
      "Downloading 74 of 300 images\n",
      "Downloading 75 of 300 images\n",
      "Downloading 76 of 300 images\n",
      "Downloading 77 of 300 images\n",
      "Downloading 78 of 300 images\n",
      "Downloading 79 of 300 images\n",
      "Downloading 80 of 300 images\n",
      "Downloading 81 of 300 images\n",
      "Downloading 82 of 300 images\n",
      "Downloading 83 of 300 images\n",
      "Downloading 84 of 300 images\n",
      "Downloading 85 of 300 images\n",
      "Downloading 86 of 300 images\n",
      "Downloading 87 of 300 images\n",
      "Downloading 88 of 300 images\n",
      "Downloading 89 of 300 images\n",
      "Downloading 90 of 300 images\n",
      "Downloading 91 of 300 images\n",
      "Downloading 92 of 300 images\n",
      "Downloading 93 of 300 images\n",
      "Downloading 94 of 300 images\n",
      "Downloading 95 of 300 images\n",
      "Downloading 96 of 300 images\n",
      "Downloading 97 of 300 images\n",
      "Downloading 98 of 300 images\n",
      "Downloading 99 of 300 images\n",
      "Downloading 100 of 300 images\n",
      "Downloading 101 of 300 images\n",
      "Downloading 102 of 300 images\n",
      "Downloading 103 of 300 images\n",
      "Downloading 104 of 300 images\n",
      "Downloading 105 of 300 images\n",
      "Downloading 106 of 300 images\n",
      "Downloading 107 of 300 images\n",
      "Downloading 108 of 300 images\n",
      "Downloading 109 of 300 images\n",
      "Downloading 110 of 300 images\n",
      "Downloading 111 of 300 images\n",
      "Downloading 112 of 300 images\n",
      "Downloading 113 of 300 images\n",
      "Downloading 114 of 300 images\n",
      "Downloading 115 of 300 images\n",
      "Downloading 116 of 300 images\n",
      "Downloading 117 of 300 images\n",
      "Downloading 118 of 300 images\n",
      "Downloading 119 of 300 images\n",
      "Downloading 120 of 300 images\n",
      "Downloading 121 of 300 images\n",
      "Downloading 122 of 300 images\n",
      "Downloading 123 of 300 images\n",
      "Downloading 124 of 300 images\n",
      "Downloading 125 of 300 images\n",
      "Downloading 126 of 300 images\n",
      "Downloading 127 of 300 images\n",
      "Downloading 128 of 300 images\n",
      "Downloading 129 of 300 images\n",
      "Downloading 130 of 300 images\n",
      "Downloading 131 of 300 images\n",
      "Downloading 132 of 300 images\n",
      "Downloading 133 of 300 images\n",
      "Downloading 134 of 300 images\n",
      "Downloading 135 of 300 images\n",
      "Downloading 136 of 300 images\n",
      "Downloading 137 of 300 images\n",
      "Downloading 138 of 300 images\n",
      "Downloading 139 of 300 images\n",
      "Downloading 140 of 300 images\n",
      "Downloading 141 of 300 images\n",
      "Downloading 142 of 300 images\n",
      "Downloading 143 of 300 images\n",
      "Downloading 144 of 300 images\n",
      "Downloading 145 of 300 images\n",
      "Downloading 146 of 300 images\n",
      "Downloading 147 of 300 images\n",
      "Downloading 148 of 300 images\n",
      "Downloading 149 of 300 images\n",
      "Downloading 150 of 300 images\n",
      "Downloading 151 of 300 images\n",
      "Downloading 152 of 300 images\n",
      "Downloading 153 of 300 images\n",
      "Downloading 154 of 300 images\n",
      "Downloading 155 of 300 images\n",
      "Downloading 156 of 300 images\n",
      "Downloading 157 of 300 images\n",
      "Downloading 158 of 300 images\n",
      "Downloading 159 of 300 images\n",
      "Downloading 160 of 300 images\n",
      "Downloading 161 of 300 images\n",
      "Downloading 162 of 300 images\n",
      "Downloading 163 of 300 images\n",
      "Downloading 164 of 300 images\n",
      "Downloading 165 of 300 images\n",
      "Downloading 166 of 300 images\n",
      "Downloading 167 of 300 images\n",
      "Downloading 168 of 300 images\n",
      "Downloading 169 of 300 images\n"
     ]
    }
   ],
   "source": [
    "for i in range(len(img_urls_Jeans)):\n",
    "    if i>300:\n",
    "        break\n",
    "    print(\"Downloading {0} of {1} images\" .format(i,300))\n",
    "    try:\n",
    "        response=requests.get(img_urls_Jeans[i])\n",
    "        file = open(r\"D:\\Flip_Robo_Images\\img_Jeans\\New folder\"+str(i)+\".jpg\",'wb')\n",
    "        file.write(response.content)\n",
    "    except:\n",
    "        pass"
   ]
  },
  {
   "cell_type": "code",
   "execution_count": null,
   "id": "38632f0b",
   "metadata": {},
   "outputs": [],
   "source": []
  },
  {
   "cell_type": "code",
   "execution_count": null,
   "id": "4c2e8c00",
   "metadata": {},
   "outputs": [],
   "source": []
  },
  {
   "cell_type": "code",
   "execution_count": null,
   "id": "acd0c07d",
   "metadata": {},
   "outputs": [],
   "source": []
  },
  {
   "cell_type": "code",
   "execution_count": null,
   "id": "e6175f56",
   "metadata": {},
   "outputs": [],
   "source": []
  },
  {
   "cell_type": "code",
   "execution_count": null,
   "id": "43365f9e",
   "metadata": {},
   "outputs": [],
   "source": []
  },
  {
   "cell_type": "code",
   "execution_count": null,
   "id": "72597f31",
   "metadata": {},
   "outputs": [],
   "source": []
  },
  {
   "cell_type": "code",
   "execution_count": null,
   "id": "cfa4b957",
   "metadata": {},
   "outputs": [],
   "source": []
  },
  {
   "cell_type": "code",
   "execution_count": null,
   "id": "39b33cbd",
   "metadata": {},
   "outputs": [],
   "source": []
  },
  {
   "cell_type": "code",
   "execution_count": null,
   "id": "494d950a",
   "metadata": {},
   "outputs": [],
   "source": []
  },
  {
   "cell_type": "code",
   "execution_count": null,
   "id": "b0f79191",
   "metadata": {},
   "outputs": [],
   "source": []
  }
 ],
 "metadata": {
  "kernelspec": {
   "display_name": "Python 3 (ipykernel)",
   "language": "python",
   "name": "python3"
  },
  "language_info": {
   "codemirror_mode": {
    "name": "ipython",
    "version": 3
   },
   "file_extension": ".py",
   "mimetype": "text/x-python",
   "name": "python",
   "nbconvert_exporter": "python",
   "pygments_lexer": "ipython3",
   "version": "3.9.7"
  }
 },
 "nbformat": 4,
 "nbformat_minor": 5
}
